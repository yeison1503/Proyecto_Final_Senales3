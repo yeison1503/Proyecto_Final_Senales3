{
  "nbformat": 4,
  "nbformat_minor": 0,
  "metadata": {
    "colab": {
      "name": "ProyectoFinal_Señales3.ipynb",
      "provenance": []
    },
    "kernelspec": {
      "name": "python3",
      "display_name": "Python 3"
    },
    "language_info": {
      "name": "python"
    }
  },
  "cells": [
    {
      "cell_type": "code",
      "metadata": {
        "colab": {
          "base_uri": "https://localhost:8080/"
        },
        "id": "8m-3qEzK7DtA",
        "outputId": "ee925308-905e-4f51-a271-fba44444a402"
      },
      "source": [
        "from google.colab import drive\n",
        "drive.mount('/content/gdrive')"
      ],
      "execution_count": null,
      "outputs": [
        {
          "output_type": "stream",
          "name": "stdout",
          "text": [
            "Mounted at /content/gdrive\n"
          ]
        }
      ]
    },
    {
      "cell_type": "code",
      "metadata": {
        "id": "pkEe39VU7iws"
      },
      "source": [
        "import cv2 \n",
        "import numpy as np\n",
        "import os \n",
        "import time\n",
        "import scipy.io as sc"
      ],
      "execution_count": null,
      "outputs": []
    },
    {
      "cell_type": "code",
      "metadata": {
        "colab": {
          "base_uri": "https://localhost:8080/"
        },
        "id": "UkPw_KCQzh2L",
        "outputId": "c5d86412-5cd5-46b3-b2d8-034ac523fd5d"
      },
      "source": [
        "cd /content/gdrive/MyDrive/Señales 3/Dataset_Emotion/"
      ],
      "execution_count": null,
      "outputs": [
        {
          "output_type": "stream",
          "name": "stdout",
          "text": [
            "/content/gdrive/MyDrive/Señales 3/Dataset_Emotion\n"
          ]
        }
      ]
    },
    {
      "cell_type": "code",
      "metadata": {
        "colab": {
          "base_uri": "https://localhost:8080/"
        },
        "id": "DiMByoZ28Cyo",
        "outputId": "d4f3679c-7954-474b-a685-4ec2503ff6e0"
      },
      "source": [
        "#data = sc.loadmat('/content/gdrive/MyDrive/Señales3/Dataset_Emotion/')\n",
        "path = ('/content/gdrive/MyDrive/Señales 3/Dataset_Emotion')\n",
        "lista = os.listdir(path) #convierte el contenido del pat en una lista \n",
        "print(path,lista)\n",
        "\n",
        "labels = []\n",
        "data = []\n",
        "label = 0\n",
        "\n",
        "for directorio in lista:\n",
        "    emocionpath = path +'/'+ directorio # accedemos a la carpeta de cada emocion\n",
        "    for imagen in os.listdir(emocionpath):\n",
        "        data.append(cv2.imread(emocionpath +'/'+imagen,0)) # agregar imagenes\n",
        "        labels.append(label) # agregar etiquetas \n",
        "    \n",
        "    label= label+1"
      ],
      "execution_count": null,
      "outputs": [
        {
          "output_type": "stream",
          "name": "stdout",
          "text": [
            "/content/gdrive/MyDrive/Señales 3/Dataset_Emotion ['enfado', 'feliz', 'asco', 'triste', 'sorpresa', 'neutral']\n"
          ]
        }
      ]
    },
    {
      "cell_type": "code",
      "metadata": {
        "id": "gI7l0mSr1eDB"
      },
      "source": [
        "## EigenFaces ##\n",
        "labels =np.asarray(labels)\n",
        "EigenFaces_recognizer = cv2.face.EigenFaceRecognizer_create() # creamos el objeto LBPH\n",
        "EigenFaces_recognizer.train(data,labels) # entrenamos el algoritmo con las imagenes del dataset\n",
        "#vect = EigenFaces_recognizer.getEigenVectors() # histogramas (características)\n",
        "vect = EigenFaces_recognizer.getEigenVectors()\n",
        "\n",
        "vect = np.asarray(vect)\n",
        "vect = vect.reshape(331,122500)\n",
        "np.savetxt('caracteristicas_EF.csv',vect,delimiter=',',fmt=\"%f\")\n",
        "np.savetxt('labels.csv',labels,delimiter=' ',fmt='%s')"
      ],
      "execution_count": null,
      "outputs": []
    },
    {
      "cell_type": "code",
      "metadata": {
        "id": "nHrtXqHf5-bQ"
      },
      "source": [
        "import numpy as np\n",
        "import pandas as pd\n",
        "from sklearn.decomposition import PCA\n",
        "from sklearn.discriminant_analysis import LinearDiscriminantAnalysis\n",
        "from matplotlib import pyplot as plt\n",
        "\n",
        "\n",
        "data = pd.read_csv(\"caracteristicas_EF.csv\").to_numpy()\n",
        "labels = pd.read_csv(\"labels.csv\").to_numpy()\n",
        "labels = labels.reshape(330)\n",
        "\n",
        "data_norm = (data - np.mean(data))/np.std(data) #normalizamos los datos \n",
        "lw=2\n",
        "target_names = ['asco','enfado','feliz', 'neutral','sorpresa','triste']\n",
        "colors =['orange','green','blue','red','black','pink']"
      ],
      "execution_count": null,
      "outputs": []
    },
    {
      "cell_type": "code",
      "metadata": {
        "colab": {
          "base_uri": "https://localhost:8080/",
          "height": 314
        },
        "id": "HYLEYkDk6kak",
        "outputId": "bc114e53-4769-4d3c-fc45-e0ab3d430968"
      },
      "source": [
        "#%% Datos crudos\n",
        "target_names = ['neutral','sorpresa']\n",
        "colors=['blue','red']\n",
        "for color, i, target_name in zip(colors, [3,4], target_names):\n",
        "    plt.scatter(data_norm[labels == i, 0], data_norm[labels == i, 1], color=color, alpha=.8,lw=lw,label=target_name)\n",
        "plt.legend(loc='best', shadow=False, scatterpoints=1)\n",
        "plt.title('Datos crudos normalizados')\n",
        "plt.figure()"
      ],
      "execution_count": null,
      "outputs": [
        {
          "output_type": "execute_result",
          "data": {
            "text/plain": [
              "<Figure size 432x288 with 0 Axes>"
            ]
          },
          "metadata": {},
          "execution_count": 24
        },
        {
          "output_type": "display_data",
          "data": {
            "image/png": "[encoded data removed]",
            "text/plain": [
              "<Figure size 432x288 with 1 Axes>"
            ]
          },
          "metadata": {
            "needs_background": "light"
          }
        },
        {
          "output_type": "display_data",
          "data": {
            "text/plain": [
              "<Figure size 432x288 with 0 Axes>"
            ]
          },
          "metadata": {}
        }
      ]
    },
    {
      "cell_type": "code",
      "metadata": {
        "colab": {
          "base_uri": "https://localhost:8080/",
          "height": 296
        },
        "id": "JN6hasTj6mEQ",
        "outputId": "8ee38e68-6850-49f1-84e5-d1102ec0d0ca"
      },
      "source": [
        "#%% PCA Razón de varianza acumulada \n",
        "\n",
        "pca = PCA().fit(data_norm)\n",
        "plt.plot(np.cumsum(pca.explained_variance_ratio_))\n",
        "plt.title('Razón de varianza acumulada')\n",
        "plt.xlabel('número de componentes')\n",
        "plt.ylabel('varianza explicada acumulada');\n",
        "plt.grid()"
      ],
      "execution_count": null,
      "outputs": [
        {
          "output_type": "display_data",
          "data": {
            "image/png": "[encoded data removed]",
            "text/plain": [
              "<Figure size 432x288 with 1 Axes>"
            ]
          },
          "metadata": {
            "needs_background": "light"
          }
        }
      ]
    },
    {
      "cell_type": "code",
      "metadata": {
        "colab": {
          "base_uri": "https://localhost:8080/",
          "height": 314
        },
        "id": "chakKlwh6sGy",
        "outputId": "cbc91046-6fc5-4e96-ad7b-033850d8da43"
      },
      "source": [
        "#%% PCA (análisis de componentes principales)\n",
        "target_names = ['neutral','sorpresa']\n",
        "colors=['blue','red']\n",
        "pcaObj = PCA(n_components=250)\n",
        "pca = pcaObj.fit_transform(data_norm)\n",
        "for color, i, target_name in zip(colors, [3,4], target_names):\n",
        "    plt.scatter(pca[labels == i, 0], pca[labels == i, 1], color=color, alpha=.8,lw=lw,label=target_name)\n",
        "plt.legend(loc='best', shadow=False, scatterpoints=1)\n",
        "plt.title('Datos PCA nc=5')\n",
        "plt.figure()"
      ],
      "execution_count": null,
      "outputs": [
        {
          "output_type": "execute_result",
          "data": {
            "text/plain": [
              "<Figure size 432x288 with 0 Axes>"
            ]
          },
          "metadata": {},
          "execution_count": 27
        },
        {
          "output_type": "display_data",
          "data": {
            "image/png": "[encoded data removed]",
            "text/plain": [
              "<Figure size 432x288 with 1 Axes>"
            ]
          },
          "metadata": {
            "needs_background": "light"
          }
        },
        {
          "output_type": "display_data",
          "data": {
            "text/plain": [
              "<Figure size 432x288 with 0 Axes>"
            ]
          },
          "metadata": {}
        }
      ]
    },
    {
      "cell_type": "markdown",
      "metadata": {
        "id": "YLgIabrVy9He"
      },
      "source": [
        "# Nueva sección"
      ]
    }
  ]
}